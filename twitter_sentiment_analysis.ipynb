{
  "nbformat": 4,
  "nbformat_minor": 0,
  "metadata": {
    "colab": {
      "name": "twitter_sentiment_analysis.ipynb",
      "version": "0.3.2",
      "provenance": [],
      "collapsed_sections": []
    },
    "kernelspec": {
      "name": "python2",
      "display_name": "Python 2"
    }
  },
  "cells": [
    {
      "cell_type": "markdown",
      "metadata": {
        "id": "view-in-github",
        "colab_type": "text"
      },
      "source": [
        "[View in Colaboratory](https://colab.research.google.com/github/ysfmag/twitter_sentiment_analysis/blob/master/twitter_sentiment_analysis.ipynb)"
      ]
    },
    {
      "metadata": {
        "id": "cwTlI4yUqF_Y",
        "colab_type": "text"
      },
      "cell_type": "markdown",
      "source": [
        "# Step 0 - Install dependencies"
      ]
    },
    {
      "metadata": {
        "id": "7EKT4QvLpy_H",
        "colab_type": "code",
        "colab": {}
      },
      "cell_type": "code",
      "source": [
        "!pip install -q tweepy TextBlob\n"
      ],
      "execution_count": 0,
      "outputs": []
    },
    {
      "metadata": {
        "id": "KUa2E_2DqNdh",
        "colab_type": "text"
      },
      "cell_type": "markdown",
      "source": [
        "# Step 1 - Import tweet and textBlob librarie"
      ]
    },
    {
      "metadata": {
        "id": "f6hprtEupCMb",
        "colab_type": "code",
        "colab": {}
      },
      "cell_type": "code",
      "source": [
        "import tweepy"
      ],
      "execution_count": 0,
      "outputs": []
    },
    {
      "metadata": {
        "id": "XcRDgDK0pdco",
        "colab_type": "code",
        "colab": {}
      },
      "cell_type": "code",
      "source": [
        "from textblob import TextBlob"
      ],
      "execution_count": 0,
      "outputs": []
    },
    {
      "metadata": {
        "id": "Tr8jNyHRqDoZ",
        "colab_type": "text"
      },
      "cell_type": "markdown",
      "source": [
        "# Step 2 - Authenticate"
      ]
    },
    {
      "metadata": {
        "id": "z5pnjJWfp7Kg",
        "colab_type": "code",
        "colab": {}
      },
      "cell_type": "code",
      "source": [
        "\n",
        "consumer_key= 'p9qXWzrVGUvml1afI2APVWqRf'\n",
        "consumer_secret= 'VllosGOJSGaPAyIOQgNzqo3GGWC1tSKV9EkWzkwt67Rg0wXkps'\n",
        "\n",
        "access_token='2934081619-jV6AQNxEK0x2RoGYYsSv9n1w69p9nt5iWtjs7g7'\n",
        "access_token_secret='lvqnAFWEw5DSqs5TwN3tyalyRgdIWCbrrHoEBVsf52ide'\n",
        "\n",
        "auth = tweepy.OAuthHandler(consumer_key, consumer_secret)\n",
        "auth.set_access_token(access_token, access_token_secret)\n",
        "\n",
        "api = tweepy.API(auth)"
      ],
      "execution_count": 0,
      "outputs": []
    },
    {
      "metadata": {
        "id": "02jIpl8Aq0MP",
        "colab_type": "text"
      },
      "cell_type": "markdown",
      "source": [
        "#Step 3 - Retrieve Tweets"
      ]
    },
    {
      "metadata": {
        "id": "swCO9282qkaY",
        "colab_type": "code",
        "colab": {}
      },
      "cell_type": "code",
      "source": [
        "\n",
        "public_tweets = api.search('Facebook')"
      ],
      "execution_count": 0,
      "outputs": []
    },
    {
      "metadata": {
        "id": "APVXdKRorBjH",
        "colab_type": "text"
      },
      "cell_type": "markdown",
      "source": [
        "#Step 4 - Perform Sentiment Analysis on Tweets"
      ]
    },
    {
      "metadata": {
        "id": "u9WSWIYKq25f",
        "colab_type": "code",
        "colab": {
          "base_uri": "https://localhost:8080/",
          "height": 952
        },
        "outputId": "e02a462f-5b39-41e0-e739-2426c799587f"
      },
      "cell_type": "code",
      "source": [
        "for tweet in public_tweets:\n",
        "    print(tweet.text)\n",
        "    analysis = TextBlob(tweet.text)\n",
        "    print(analysis.sentiment)\n",
        "    print(\"\")"
      ],
      "execution_count": 16,
      "outputs": [
        {
          "output_type": "stream",
          "text": [
            "RT @moodysally1: This devoted #mother did not leave her #baby's side even though he had died😢 She stood by his side for long hours while he…\n",
            "Sentiment(polarity=-0.05, subjectivity=0.4)\n",
            "\n",
            "RT @MrFilmkritik: Me on Facebook vs. Me on Twitter. https://t.co/4mOPx9gNPO\n",
            "Sentiment(polarity=0.0, subjectivity=0.0)\n",
            "\n",
            "RT @Soncerv: Mira qué me sale en Facebook, @pgaguado. De cuando éramos jóvenes...😂😘 (6 años tiene la fotito ya) https://t.co/G3fMHtL26z\n",
            "Sentiment(polarity=0.0, subjectivity=0.0)\n",
            "\n",
            "https://t.co/QGl5RIb6eo\n",
            "Sentiment(polarity=0.0, subjectivity=0.0)\n",
            "\n",
            "\"In India, Facebook’s WhatsApp Plays Central Role in Elections\" by VINDU GOEL https://t.co/vHaWi822XQ #news… https://t.co/RQyD594sB9\n",
            "Sentiment(polarity=0.0, subjectivity=0.25)\n",
            "\n",
            "RT @MissManjo: Getting testimonies on my group NEVER gets old!!! \n",
            "\n",
            "There ARE jobs guys, we have 300k members &amp; at least 400 new posts share…\n",
            "Sentiment(polarity=0.010558712121212122, subjectivity=0.35151515151515156)\n",
            "\n",
            "RT @NukemDukemz: Congrats to the SteelSeries &amp; Season Pass winners. Here's a new giveaway competition $50 digital giftcard to anywhere http…\n",
            "Sentiment(polarity=0.06818181818181818, subjectivity=0.22727272727272727)\n",
            "\n",
            "RT @RadioHache: La radio también se ve, @Tuit_ErosRH con @caramellocumpa y @Niobe_sub0  en  FB Live de @RadioHache  https://t.co/hPdPhvgsXx…\n",
            "Sentiment(polarity=0.13636363636363635, subjectivity=0.5)\n",
            "\n",
            "RT @NamiKim_DogsSK: \"Happy Mothers Day !\n",
            "To my beautiful 93 year old mama. I Nami Kim want my mom again in our next life. Just like my dad,…\n",
            "Sentiment(polarity=0.48750000000000004, subjectivity=0.55)\n",
            "\n",
            "Yo con mi hija... jajajjajaja    Ceci Mejía Hernández   Isidro Jimenez   Benita Hernandes https://t.co/mws5Q8ewm2\n",
            "Sentiment(polarity=0.0, subjectivity=0.0)\n",
            "\n",
            "Lunes, 14 de mayo de 2018   Sesión Ordinaria de Concejo https://t.co/37DRMfDdSQ\n",
            "Sentiment(polarity=0.0, subjectivity=0.0)\n",
            "\n",
            "RT @fancyhomedecors: @ACTBrigitte GOOD TO SEE YOU AGAIN BRIGITTE! \n",
            "\n",
            "I CLEANED OUT MY FACEBOOK AND STOP FOLLOWING YOU...\n",
            "\n",
            "BUT I'M FOLLOWING…\n",
            "Sentiment(polarity=0.4375, subjectivity=0.35000000000000003)\n",
            "\n",
            "CONVOCATORIA\n",
            "Estimados vecinos de nuestro Barrio “San José” invitamos a la reunión el día Jueves 17 de Mayo a las 1… https://t.co/lLQgvY2q8d\n",
            "Sentiment(polarity=0.0, subjectivity=0.0)\n",
            "\n",
            "RT @NYDARSA: #NYDABeneficiary\n",
            "\n",
            "[WATCH]: Andile Nkosi from Elukwatini in Mpumalanga received @NYDARSA Grant Funding to buy tools and Heavy D…\n",
            "Sentiment(polarity=-0.2, subjectivity=0.5)\n",
            "\n",
            "#CarolDanvers #CaptainMarvel https://t.co/ROVsANwOWw\n",
            "Sentiment(polarity=0.0, subjectivity=0.0)\n",
            "\n"
          ],
          "name": "stdout"
        }
      ]
    },
    {
      "metadata": {
        "id": "whwBs3FGrP1f",
        "colab_type": "code",
        "colab": {}
      },
      "cell_type": "code",
      "source": [
        ""
      ],
      "execution_count": 0,
      "outputs": []
    }
  ]
}